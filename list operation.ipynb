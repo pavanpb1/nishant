{
 "cells": [
  {
   "cell_type": "code",
   "execution_count": 3,
   "id": "6047cf28",
   "metadata": {},
   "outputs": [],
   "source": [
    "temp = [10,20,30,40,50]  "
   ]
  },
  {
   "cell_type": "code",
   "execution_count": 8,
   "id": "6ab5d525",
   "metadata": {},
   "outputs": [],
   "source": [
    "temp.append(100)"
   ]
  },
  {
   "cell_type": "code",
   "execution_count": 9,
   "id": "65983a87",
   "metadata": {},
   "outputs": [
    {
     "data": {
      "text/plain": [
       "[10, 20, 30, 40, 50, 100]"
      ]
     },
     "execution_count": 9,
     "metadata": {},
     "output_type": "execute_result"
    }
   ],
   "source": [
    "temp"
   ]
  },
  {
   "cell_type": "code",
   "execution_count": 10,
   "id": "927719bf",
   "metadata": {},
   "outputs": [],
   "source": [
    "temp.insert(2,500)"
   ]
  },
  {
   "cell_type": "code",
   "execution_count": 11,
   "id": "d8eed272",
   "metadata": {},
   "outputs": [
    {
     "data": {
      "text/plain": [
       "[10, 20, 500, 30, 40, 50, 100]"
      ]
     },
     "execution_count": 11,
     "metadata": {},
     "output_type": "execute_result"
    }
   ],
   "source": [
    "temp"
   ]
  },
  {
   "cell_type": "code",
   "execution_count": 12,
   "id": "6a9b0766",
   "metadata": {},
   "outputs": [],
   "source": [
    "temp.extend([100,200,300])"
   ]
  },
  {
   "cell_type": "code",
   "execution_count": 13,
   "id": "7e0849f3",
   "metadata": {},
   "outputs": [
    {
     "data": {
      "text/plain": [
       "[10, 20, 500, 30, 40, 50, 100, 100, 200, 300]"
      ]
     },
     "execution_count": 13,
     "metadata": {},
     "output_type": "execute_result"
    }
   ],
   "source": [
    "temp"
   ]
  },
  {
   "cell_type": "code",
   "execution_count": null,
   "id": "b917a99a",
   "metadata": {},
   "outputs": [],
   "source": [
    "list:\n",
    "    it is colletion of elements\n",
    "    it is mutable type\n",
    "    []\n",
    "    it may contain duplicate element/value"
   ]
  },
  {
   "cell_type": "code",
   "execution_count": 14,
   "id": "5956eb25",
   "metadata": {},
   "outputs": [
    {
     "data": {
      "text/plain": [
       "[10, 20, 500, 30, 40, 50, 100, 100, 200, 300]"
      ]
     },
     "execution_count": 14,
     "metadata": {},
     "output_type": "execute_result"
    }
   ],
   "source": [
    "temp"
   ]
  },
  {
   "cell_type": "code",
   "execution_count": null,
   "id": "7bea1f40",
   "metadata": {},
   "outputs": [],
   "source": [
    "#insertion\n",
    "insert\n",
    "append\n",
    "extend"
   ]
  },
  {
   "cell_type": "code",
   "execution_count": 15,
   "id": "7f59f56c",
   "metadata": {},
   "outputs": [],
   "source": [
    "#deletion"
   ]
  },
  {
   "cell_type": "code",
   "execution_count": null,
   "id": "814e0633",
   "metadata": {},
   "outputs": [],
   "source": [
    "remove ---> delete element using element itself\n",
    "pop\n",
    "clear"
   ]
  },
  {
   "cell_type": "code",
   "execution_count": 16,
   "id": "a5f8a3a9",
   "metadata": {},
   "outputs": [
    {
     "data": {
      "text/plain": [
       "[10, 20, 500, 30, 40, 50, 100, 100, 200, 300]"
      ]
     },
     "execution_count": 16,
     "metadata": {},
     "output_type": "execute_result"
    }
   ],
   "source": [
    "temp"
   ]
  },
  {
   "cell_type": "code",
   "execution_count": 17,
   "id": "bd91ef8d",
   "metadata": {},
   "outputs": [],
   "source": [
    "temp.remove(500)"
   ]
  },
  {
   "cell_type": "code",
   "execution_count": 18,
   "id": "1840afb8",
   "metadata": {},
   "outputs": [
    {
     "data": {
      "text/plain": [
       "[10, 20, 30, 40, 50, 100, 100, 200, 300]"
      ]
     },
     "execution_count": 18,
     "metadata": {},
     "output_type": "execute_result"
    }
   ],
   "source": [
    "temp"
   ]
  },
  {
   "cell_type": "code",
   "execution_count": 19,
   "id": "14cc3e50",
   "metadata": {},
   "outputs": [],
   "source": [
    "temp.remove(100) # single element delete"
   ]
  },
  {
   "cell_type": "code",
   "execution_count": 20,
   "id": "3ac77dfd",
   "metadata": {},
   "outputs": [
    {
     "data": {
      "text/plain": [
       "[10, 20, 30, 40, 50, 100, 200, 300]"
      ]
     },
     "execution_count": 20,
     "metadata": {},
     "output_type": "execute_result"
    }
   ],
   "source": [
    "temp"
   ]
  },
  {
   "cell_type": "code",
   "execution_count": null,
   "id": "a8a5c06f",
   "metadata": {},
   "outputs": [],
   "source": [
    "#pop ---> pop   ---> address/index number"
   ]
  },
  {
   "cell_type": "code",
   "execution_count": 21,
   "id": "d6020584",
   "metadata": {},
   "outputs": [
    {
     "data": {
      "text/plain": [
       "[10, 20, 30, 40, 50, 100, 200, 300]"
      ]
     },
     "execution_count": 21,
     "metadata": {},
     "output_type": "execute_result"
    }
   ],
   "source": [
    "temp"
   ]
  },
  {
   "cell_type": "code",
   "execution_count": 22,
   "id": "a1948d14",
   "metadata": {},
   "outputs": [
    {
     "data": {
      "text/plain": [
       "40"
      ]
     },
     "execution_count": 22,
     "metadata": {},
     "output_type": "execute_result"
    }
   ],
   "source": [
    "temp.pop(3)"
   ]
  },
  {
   "cell_type": "code",
   "execution_count": 23,
   "id": "d3985d6a",
   "metadata": {},
   "outputs": [
    {
     "data": {
      "text/plain": [
       "[10, 20, 30, 50, 100, 200, 300]"
      ]
     },
     "execution_count": 23,
     "metadata": {},
     "output_type": "execute_result"
    }
   ],
   "source": [
    "temp"
   ]
  },
  {
   "cell_type": "code",
   "execution_count": 24,
   "id": "1cfdf88d",
   "metadata": {},
   "outputs": [
    {
     "data": {
      "text/plain": [
       "200"
      ]
     },
     "execution_count": 24,
     "metadata": {},
     "output_type": "execute_result"
    }
   ],
   "source": [
    "temp.pop(-2)"
   ]
  },
  {
   "cell_type": "code",
   "execution_count": 25,
   "id": "f3f6d478",
   "metadata": {},
   "outputs": [
    {
     "data": {
      "text/plain": [
       "[10, 20, 30, 50, 100, 300]"
      ]
     },
     "execution_count": 25,
     "metadata": {},
     "output_type": "execute_result"
    }
   ],
   "source": [
    "temp"
   ]
  },
  {
   "cell_type": "code",
   "execution_count": 26,
   "id": "405a37a0",
   "metadata": {},
   "outputs": [
    {
     "data": {
      "text/plain": [
       "100"
      ]
     },
     "execution_count": 26,
     "metadata": {},
     "output_type": "execute_result"
    }
   ],
   "source": [
    "temp.pop(4)"
   ]
  },
  {
   "cell_type": "code",
   "execution_count": 27,
   "id": "d21066ea",
   "metadata": {},
   "outputs": [
    {
     "data": {
      "text/plain": [
       "[10, 20, 30, 50, 300]"
      ]
     },
     "execution_count": 27,
     "metadata": {},
     "output_type": "execute_result"
    }
   ],
   "source": [
    "temp"
   ]
  },
  {
   "cell_type": "code",
   "execution_count": 28,
   "id": "aeddeac1",
   "metadata": {},
   "outputs": [
    {
     "data": {
      "text/plain": [
       "[10, 20, 30, 50, 300]"
      ]
     },
     "execution_count": 28,
     "metadata": {},
     "output_type": "execute_result"
    }
   ],
   "source": [
    "temp"
   ]
  },
  {
   "cell_type": "code",
   "execution_count": null,
   "id": "8d0d69dd",
   "metadata": {},
   "outputs": [],
   "source": [
    "remove and pop\n",
    "element vs index\n",
    "return no vs deleted element"
   ]
  },
  {
   "cell_type": "code",
   "execution_count": 29,
   "id": "d3a7f89c",
   "metadata": {},
   "outputs": [
    {
     "data": {
      "text/plain": [
       "[10, 20, 30, 50, 300]"
      ]
     },
     "execution_count": 29,
     "metadata": {},
     "output_type": "execute_result"
    }
   ],
   "source": [
    "temp"
   ]
  },
  {
   "cell_type": "code",
   "execution_count": 30,
   "id": "14072825",
   "metadata": {},
   "outputs": [],
   "source": [
    "temp.clear()"
   ]
  },
  {
   "cell_type": "code",
   "execution_count": 31,
   "id": "f501723d",
   "metadata": {},
   "outputs": [
    {
     "data": {
      "text/plain": [
       "[]"
      ]
     },
     "execution_count": 31,
     "metadata": {},
     "output_type": "execute_result"
    }
   ],
   "source": [
    "temp"
   ]
  },
  {
   "cell_type": "code",
   "execution_count": null,
   "id": "baa4d2a9",
   "metadata": {},
   "outputs": [],
   "source": [
    "remove -- elemnt\n",
    "pop - index\n",
    "clear -- delete all"
   ]
  },
  {
   "cell_type": "code",
   "execution_count": 32,
   "id": "dec6a987",
   "metadata": {},
   "outputs": [
    {
     "data": {
      "text/plain": [
       "['sfdsdf', 'sdfsdfs']"
      ]
     },
     "execution_count": 32,
     "metadata": {},
     "output_type": "execute_result"
    }
   ],
   "source": [
    "p"
   ]
  },
  {
   "cell_type": "code",
   "execution_count": 33,
   "id": "4a61ced0",
   "metadata": {},
   "outputs": [],
   "source": [
    "p.clear()"
   ]
  },
  {
   "cell_type": "code",
   "execution_count": 34,
   "id": "b225643c",
   "metadata": {},
   "outputs": [
    {
     "data": {
      "text/plain": [
       "[]"
      ]
     },
     "execution_count": 34,
     "metadata": {},
     "output_type": "execute_result"
    }
   ],
   "source": [
    "p"
   ]
  },
  {
   "cell_type": "code",
   "execution_count": 35,
   "id": "0356a198",
   "metadata": {},
   "outputs": [],
   "source": [
    "p = [10,30,50,45,60]"
   ]
  },
  {
   "cell_type": "code",
   "execution_count": 36,
   "id": "a3fd2998",
   "metadata": {},
   "outputs": [
    {
     "data": {
      "text/plain": [
       "[45, 60]"
      ]
     },
     "execution_count": 36,
     "metadata": {},
     "output_type": "execute_result"
    }
   ],
   "source": [
    "p[3:]"
   ]
  },
  {
   "cell_type": "code",
   "execution_count": 37,
   "id": "255da1aa",
   "metadata": {},
   "outputs": [
    {
     "data": {
      "text/plain": [
       "[10, 30, 50, 45, 60]"
      ]
     },
     "execution_count": 37,
     "metadata": {},
     "output_type": "execute_result"
    }
   ],
   "source": [
    "p"
   ]
  },
  {
   "cell_type": "code",
   "execution_count": 38,
   "id": "18934b0c",
   "metadata": {},
   "outputs": [
    {
     "data": {
      "text/plain": [
       "10"
      ]
     },
     "execution_count": 38,
     "metadata": {},
     "output_type": "execute_result"
    }
   ],
   "source": [
    "p.pop(0)"
   ]
  },
  {
   "cell_type": "code",
   "execution_count": 39,
   "id": "0b3594a6",
   "metadata": {},
   "outputs": [
    {
     "data": {
      "text/plain": [
       "[30, 50, 45, 60]"
      ]
     },
     "execution_count": 39,
     "metadata": {},
     "output_type": "execute_result"
    }
   ],
   "source": [
    "p"
   ]
  },
  {
   "cell_type": "code",
   "execution_count": null,
   "id": "7de08260",
   "metadata": {},
   "outputs": [],
   "source": [
    "data --\n",
    "\n",
    "website\n",
    "api\n",
    "database\n",
    "file"
   ]
  },
  {
   "cell_type": "code",
   "execution_count": 40,
   "id": "19e8c4ac",
   "metadata": {},
   "outputs": [],
   "source": [
    "import pandas as pd"
   ]
  },
  {
   "cell_type": "code",
   "execution_count": 41,
   "id": "dd6c7680",
   "metadata": {},
   "outputs": [],
   "source": [
    "df = pd.read_html('https://en.wikipedia.org/wiki/COVID-19_pandemic_by_country_and_territory')"
   ]
  },
  {
   "cell_type": "code",
   "execution_count": 43,
   "id": "603915be",
   "metadata": {},
   "outputs": [
    {
     "data": {
      "text/plain": [
       "list"
      ]
     },
     "execution_count": 43,
     "metadata": {},
     "output_type": "execute_result"
    }
   ],
   "source": [
    "type(df)"
   ]
  },
  {
   "cell_type": "code",
   "execution_count": 60,
   "id": "ed65ac20",
   "metadata": {},
   "outputs": [
    {
     "name": "stdout",
     "output_type": "stream",
     "text": [
      "                                    COVID-19 pandemic  \\\n",
      "0   Confirmed deaths per 100,000 population,[1][no...   \n",
      "1                                             Disease   \n",
      "2                                        Virus strain   \n",
      "3                                              Source   \n",
      "4                                            Location   \n",
      "5                                      First outbreak   \n",
      "6                                          Index case   \n",
      "7                                                Date   \n",
      "8                                     Confirmed cases   \n",
      "9                                              Deaths   \n",
      "10                                       Vaccinations   \n",
      "\n",
      "                                  COVID-19 pandemic.1  \n",
      "0   Confirmed deaths per 100,000 population,[1][no...  \n",
      "1                                            COVID-19  \n",
      "2                                          SARS-CoV-2  \n",
      "3         Probably bats, possibly via pangolins[2][3]  \n",
      "4                                           Worldwide  \n",
      "5                                            China[4]  \n",
      "6   Wuhan, Hubei, China.mw-parser-output .geo-defa...  \n",
      "7   17 November 2019[4] – present(2 years, 8 month...  \n",
      "8                                      563,632,472[5]  \n",
      "9                                        6,371,474[5]  \n",
      "10  5,279,619,042[5] (total vaccinated)4,847,036,9...  \n",
      "                                                   0\n",
      "0  Map of total confirmed cases by country[9][not...\n",
      "1        Date of latest upload at the Commons source\n",
      "                                                   0\n",
      "0  Map of confirmed cases per million by country[...\n",
      "1        Date of latest upload at the Commons source\n",
      "                                                   0\n",
      "0  Map of total confirmed deaths by country[11][n...\n",
      "1                        Date on map Commons source.\n",
      "                                                   0\n",
      "0  Map of total confirmed deaths per million peop...\n",
      "1                        Date on map Commons source.\n",
      "                                                   0\n",
      "0  Map of daily new confirmed deaths per million ...\n",
      "1                        Date on map Commons source.\n",
      "                                                   0\n",
      "0  Graph of daily new confirmed deaths worldwide ...\n",
      "1                         Date on timeline at bottom\n",
      "                                                   0\n",
      "0  Graph showing daily count of new confirmed dea...\n",
      "1                         Date on timeline at bottom\n",
      "                                                   0\n",
      "0  Graph of weekly count of new confirmed deaths ...\n",
      "1                         Date on timeline at bottom\n",
      "                                                   0\n",
      "0  Share of fully vaccinated population by countr...\n",
      "1                                        Date on map\n",
      "                                                   0\n",
      "0  Share of population with at least one dose of ...\n",
      "1                                        Date on map\n",
      "                                                   0\n",
      "0  Vaccine doses administered per 100 people by c...\n",
      "1                                        Date on map\n",
      "                                            Unnamed: 0  \\\n",
      "0                                                  NaN   \n",
      "1                                                  NaN   \n",
      "2                                                  NaN   \n",
      "3                                                  NaN   \n",
      "4                                                  NaN   \n",
      "..                                                 ...   \n",
      "214                                                NaN   \n",
      "215                                                NaN   \n",
      "216                                                NaN   \n",
      "217                                                NaN   \n",
      "218  .mw-parser-output .reflist{font-size:90%;margi...   \n",
      "\n",
      "                                               Country  \\\n",
      "0                                             World[a]   \n",
      "1                                                 Peru   \n",
      "2                                             Bulgaria   \n",
      "3                               Bosnia and Herzegovina   \n",
      "4                                              Hungary   \n",
      "..                                                 ...   \n",
      "214                                   Falkland Islands   \n",
      "215       Saint Helena, Ascension and Tristan da Cunha   \n",
      "216                     Federated States of Micronesia   \n",
      "217                                   Marshall Islands   \n",
      "218  .mw-parser-output .reflist{font-size:90%;margi...   \n",
      "\n",
      "                                      Deaths / million  \\\n",
      "0                                                  805   \n",
      "1                                                 6342   \n",
      "2                                                 5417   \n",
      "3                                                 4836   \n",
      "4                                                 4809   \n",
      "..                                                 ...   \n",
      "214                                                  —   \n",
      "215                                                  —   \n",
      "216                                                  —   \n",
      "217                                                  —   \n",
      "218  .mw-parser-output .reflist{font-size:90%;margi...   \n",
      "\n",
      "                                                Deaths  \\\n",
      "0                                              6371474   \n",
      "1                                               213825   \n",
      "2                                                37301   \n",
      "3                                                15819   \n",
      "4                                                46696   \n",
      "..                                                 ...   \n",
      "214                                                  —   \n",
      "215                                                  —   \n",
      "216                                                  0   \n",
      "217                                                  —   \n",
      "218  .mw-parser-output .reflist{font-size:90%;margi...   \n",
      "\n",
      "                                                 Cases  \n",
      "0                                            563632472  \n",
      "1                                              3749635  \n",
      "2                                              1187138  \n",
      "3                                               381150  \n",
      "4                                              1940824  \n",
      "..                                                 ...  \n",
      "214                                               1831  \n",
      "215                                                  4  \n",
      "216                                                 38  \n",
      "217                                                 49  \n",
      "218  .mw-parser-output .reflist{font-size:90%;margi...  \n",
      "\n",
      "[219 rows x 5 columns]\n",
      "     Unnamed: 0       Location    Jan 1    Feb 1    Mar 1\n",
      "0           NaN          World  5440722  5682684  5954004\n",
      "1           NaN  United States   819197   881867   941112\n",
      "2           NaN         Brazil   618984   626854   649134\n",
      "3           NaN          India   481486   496242   514023\n",
      "4           NaN         Russia   309707   332012   352446\n",
      "..          ...            ...      ...      ...      ...\n",
      "233         NaN        Tokelau        0        0        0\n",
      "234         NaN          Tonga        0        0        0\n",
      "235         NaN   Turkmenistan        0        0        0\n",
      "236         NaN         Tuvalu        0        0        0\n",
      "237         NaN        Vanuatu        0        0        0\n",
      "\n",
      "[238 rows x 5 columns]\n",
      "     Unnamed: 0       Location    Jul 1    Aug 1    Sep 1    Oct 1    Nov 1  \\\n",
      "0           NaN          World  3954147  4229169  4536307  4794137  5005025   \n",
      "1           NaN  United States   600853   610606   642770   697430   743217   \n",
      "2           NaN         Brazil   515985   555460   579574   596122   607694   \n",
      "3           NaN          India   399459   424351   439020   448339   458437   \n",
      "4           NaN         Mexico   238055   245959   267253   283091   290717   \n",
      "..          ...            ...      ...      ...      ...      ...      ...   \n",
      "233         NaN        Tokelau        0        0        0        0        0   \n",
      "234         NaN          Tonga        0        0        0        0        0   \n",
      "235         NaN   Turkmenistan        0        0        0        0        0   \n",
      "236         NaN         Tuvalu        0        0        0        0        0   \n",
      "237         NaN        Vanuatu        0        0        0        0        0   \n",
      "\n",
      "       Dec 1  \n",
      "0    5215745  \n",
      "1     774868  \n",
      "2     614376  \n",
      "3     469247  \n",
      "4     293950  \n",
      "..       ...  \n",
      "233        0  \n",
      "234        0  \n",
      "235        0  \n",
      "236        0  \n",
      "237        0  \n",
      "\n",
      "[238 rows x 8 columns]\n"
     ]
    },
    {
     "name": "stdout",
     "output_type": "stream",
     "text": [
      "                          Region[29]  Total cases  Total deaths  \\\n",
      "0                     European Union    151465267       1104536   \n",
      "1                      North America     91642450       1057076   \n",
      "2                       Other Europe     52607208        481756   \n",
      "3                      South America     60169015       1282071   \n",
      "4            Russia and Central Asia     22263020        423094   \n",
      "5                    Central America      9741169        373539   \n",
      "6                        Middle East     21440970        233305   \n",
      "7                          Caribbean      2496325         25412   \n",
      "8   Oceania and islands in East Asia     33997845        271287   \n",
      "9                         South Asia     49224282        614204   \n",
      "10                      North Africa      3608448         83126   \n",
      "11                         East Asia     43487308        176581   \n",
      "12                Sub-Saharan Africa      8417400        171260   \n",
      "13               Totals (or average)    550560707       6297247   \n",
      "\n",
      "    Cases per million  Deaths per million  Current weekly cases  \\\n",
      "0              338606                2469               2849979   \n",
      "1              248483                2866                773147   \n",
      "2              225163                2062                278021   \n",
      "3              139969                2982                602936   \n",
      "4               94019                1787                 36554   \n",
      "5               54217                2079                218214   \n",
      "6               82152                 894                159024   \n",
      "7               57658                 587                 12933   \n",
      "8               58885                 470                890488   \n",
      "9               26516                 331                121399   \n",
      "10              17795                 410                 30789   \n",
      "11              24360                  99                255676   \n",
      "12               7405                 151                 14378   \n",
      "13              70958                 812               6243538   \n",
      "\n",
      "    Current weekly deaths  Population millions  Vaccinated %[30]  \n",
      "0                    2951                  447              74.6  \n",
      "1                    3124                  369              74.0  \n",
      "2                     463                  234              60.3  \n",
      "3                    2341                  430              80.4  \n",
      "4                     447                  237              50.0  \n",
      "5                     440                  180              63.1  \n",
      "6                     177                  261              51.0  \n",
      "7                      52                   43              45.6  \n",
      "8                    1274                  577              69.0  \n",
      "9                     268                 1856              67.8  \n",
      "10                     97                  203              40.6  \n",
      "11                    263                 1785              85.4  \n",
      "12                    129                 1137              16.8  \n",
      "13                  12026                 7759              63.8  \n",
      "                                                   0\n",
      "0  New identified cases of COVID-19 weekly for to...\n",
      "                                                   0\n",
      "0  Deaths due to COVID-19 weekly for top 7 region...\n",
      "                                            Unnamed: 0  \\\n",
      "0                                                  NaN   \n",
      "1                                                  NaN   \n",
      "2                                                  NaN   \n",
      "3                                                  NaN   \n",
      "4                                                  NaN   \n",
      "..                                                 ...   \n",
      "218                                                NaN   \n",
      "219                                                NaN   \n",
      "220                                                NaN   \n",
      "221                                                NaN   \n",
      "222  ^ Number of people who have received at least ...   \n",
      "\n",
      "                                              Location  \\\n",
      "0                                          World[c][d]   \n",
      "1                                             China[e]   \n",
      "2                                                India   \n",
      "3                                    European Union[f]   \n",
      "4                                     United States[g]   \n",
      "..                                                 ...   \n",
      "218                                               Niue   \n",
      "219                                            Tokelau   \n",
      "220                                   Pitcairn Islands   \n",
      "221                                        North Korea   \n",
      "222  ^ Number of people who have received at least ...   \n",
      "\n",
      "                                         Vaccinated[a]  \\\n",
      "0                                           5279619042   \n",
      "1                                           1295626000   \n",
      "2                                           1019176932   \n",
      "3                                            337847776   \n",
      "4                                            260728030   \n",
      "..                                                 ...   \n",
      "218                                               1650   \n",
      "219                                                968   \n",
      "220                                                 47   \n",
      "221                                                  0   \n",
      "222  ^ Number of people who have received at least ...   \n",
      "\n",
      "                                            Percent[b]  \n",
      "0                                               66.75%  \n",
      "1                                               90.86%  \n",
      "2                                               72.41%  \n",
      "3                                               75.48%  \n",
      "4                                               78.53%  \n",
      "..                                                 ...  \n",
      "218                                            102.23%  \n",
      "219                                             70.76%  \n",
      "220                                            100.00%  \n",
      "221                                              0.00%  \n",
      "222  ^ Number of people who have received at least ...  \n",
      "\n",
      "[223 rows x 4 columns]\n"
     ]
    },
    {
     "ename": "KeyboardInterrupt",
     "evalue": "",
     "output_type": "error",
     "traceback": [
      "\u001b[1;31m---------------------------------------------------------------------------\u001b[0m",
      "\u001b[1;31mKeyboardInterrupt\u001b[0m                         Traceback (most recent call last)",
      "\u001b[1;32m<ipython-input-60-abe91c77f09e>\u001b[0m in \u001b[0;36m<module>\u001b[1;34m\u001b[0m\n\u001b[0;32m      2\u001b[0m \u001b[1;33m\u001b[0m\u001b[0m\n\u001b[0;32m      3\u001b[0m \u001b[1;32mfor\u001b[0m \u001b[0mi\u001b[0m \u001b[1;32min\u001b[0m \u001b[0mdf\u001b[0m\u001b[1;33m:\u001b[0m\u001b[1;33m\u001b[0m\u001b[1;33m\u001b[0m\u001b[0m\n\u001b[1;32m----> 4\u001b[1;33m     \u001b[0mtime\u001b[0m\u001b[1;33m.\u001b[0m\u001b[0msleep\u001b[0m\u001b[1;33m(\u001b[0m\u001b[1;36m1\u001b[0m\u001b[1;33m)\u001b[0m\u001b[1;33m\u001b[0m\u001b[1;33m\u001b[0m\u001b[0m\n\u001b[0m\u001b[0;32m      5\u001b[0m     \u001b[0mprint\u001b[0m\u001b[1;33m(\u001b[0m\u001b[0mi\u001b[0m\u001b[1;33m)\u001b[0m\u001b[1;33m\u001b[0m\u001b[1;33m\u001b[0m\u001b[0m\n",
      "\u001b[1;31mKeyboardInterrupt\u001b[0m: "
     ]
    }
   ],
   "source": [
    "import time \n",
    "\n",
    "for i in df:\n",
    "    time.sleep(1)\n",
    "    print(i)"
   ]
  },
  {
   "cell_type": "code",
   "execution_count": 63,
   "id": "9720ccca",
   "metadata": {},
   "outputs": [],
   "source": [
    "df = df[12]"
   ]
  },
  {
   "cell_type": "code",
   "execution_count": 65,
   "id": "37745442",
   "metadata": {},
   "outputs": [],
   "source": [
    "df.drop('Unnamed: 0',axis=1,inplace=True)"
   ]
  },
  {
   "cell_type": "code",
   "execution_count": 66,
   "id": "6f085862",
   "metadata": {},
   "outputs": [
    {
     "data": {
      "text/html": [
       "<div>\n",
       "<style scoped>\n",
       "    .dataframe tbody tr th:only-of-type {\n",
       "        vertical-align: middle;\n",
       "    }\n",
       "\n",
       "    .dataframe tbody tr th {\n",
       "        vertical-align: top;\n",
       "    }\n",
       "\n",
       "    .dataframe thead th {\n",
       "        text-align: right;\n",
       "    }\n",
       "</style>\n",
       "<table border=\"1\" class=\"dataframe\">\n",
       "  <thead>\n",
       "    <tr style=\"text-align: right;\">\n",
       "      <th></th>\n",
       "      <th>Country</th>\n",
       "      <th>Deaths / million</th>\n",
       "      <th>Deaths</th>\n",
       "      <th>Cases</th>\n",
       "    </tr>\n",
       "  </thead>\n",
       "  <tbody>\n",
       "    <tr>\n",
       "      <th>0</th>\n",
       "      <td>World[a]</td>\n",
       "      <td>805</td>\n",
       "      <td>6371474</td>\n",
       "      <td>563632472</td>\n",
       "    </tr>\n",
       "    <tr>\n",
       "      <th>1</th>\n",
       "      <td>Peru</td>\n",
       "      <td>6342</td>\n",
       "      <td>213825</td>\n",
       "      <td>3749635</td>\n",
       "    </tr>\n",
       "    <tr>\n",
       "      <th>2</th>\n",
       "      <td>Bulgaria</td>\n",
       "      <td>5417</td>\n",
       "      <td>37301</td>\n",
       "      <td>1187138</td>\n",
       "    </tr>\n",
       "    <tr>\n",
       "      <th>3</th>\n",
       "      <td>Bosnia and Herzegovina</td>\n",
       "      <td>4836</td>\n",
       "      <td>15819</td>\n",
       "      <td>381150</td>\n",
       "    </tr>\n",
       "    <tr>\n",
       "      <th>4</th>\n",
       "      <td>Hungary</td>\n",
       "      <td>4809</td>\n",
       "      <td>46696</td>\n",
       "      <td>1940824</td>\n",
       "    </tr>\n",
       "    <tr>\n",
       "      <th>...</th>\n",
       "      <td>...</td>\n",
       "      <td>...</td>\n",
       "      <td>...</td>\n",
       "      <td>...</td>\n",
       "    </tr>\n",
       "    <tr>\n",
       "      <th>214</th>\n",
       "      <td>Falkland Islands</td>\n",
       "      <td>—</td>\n",
       "      <td>—</td>\n",
       "      <td>1831</td>\n",
       "    </tr>\n",
       "    <tr>\n",
       "      <th>215</th>\n",
       "      <td>Saint Helena, Ascension and Tristan da Cunha</td>\n",
       "      <td>—</td>\n",
       "      <td>—</td>\n",
       "      <td>4</td>\n",
       "    </tr>\n",
       "    <tr>\n",
       "      <th>216</th>\n",
       "      <td>Federated States of Micronesia</td>\n",
       "      <td>—</td>\n",
       "      <td>0</td>\n",
       "      <td>38</td>\n",
       "    </tr>\n",
       "    <tr>\n",
       "      <th>217</th>\n",
       "      <td>Marshall Islands</td>\n",
       "      <td>—</td>\n",
       "      <td>—</td>\n",
       "      <td>49</td>\n",
       "    </tr>\n",
       "    <tr>\n",
       "      <th>218</th>\n",
       "      <td>.mw-parser-output .reflist{font-size:90%;margi...</td>\n",
       "      <td>.mw-parser-output .reflist{font-size:90%;margi...</td>\n",
       "      <td>.mw-parser-output .reflist{font-size:90%;margi...</td>\n",
       "      <td>.mw-parser-output .reflist{font-size:90%;margi...</td>\n",
       "    </tr>\n",
       "  </tbody>\n",
       "</table>\n",
       "<p>219 rows × 4 columns</p>\n",
       "</div>"
      ],
      "text/plain": [
       "                                               Country  \\\n",
       "0                                             World[a]   \n",
       "1                                                 Peru   \n",
       "2                                             Bulgaria   \n",
       "3                               Bosnia and Herzegovina   \n",
       "4                                              Hungary   \n",
       "..                                                 ...   \n",
       "214                                   Falkland Islands   \n",
       "215       Saint Helena, Ascension and Tristan da Cunha   \n",
       "216                     Federated States of Micronesia   \n",
       "217                                   Marshall Islands   \n",
       "218  .mw-parser-output .reflist{font-size:90%;margi...   \n",
       "\n",
       "                                      Deaths / million  \\\n",
       "0                                                  805   \n",
       "1                                                 6342   \n",
       "2                                                 5417   \n",
       "3                                                 4836   \n",
       "4                                                 4809   \n",
       "..                                                 ...   \n",
       "214                                                  —   \n",
       "215                                                  —   \n",
       "216                                                  —   \n",
       "217                                                  —   \n",
       "218  .mw-parser-output .reflist{font-size:90%;margi...   \n",
       "\n",
       "                                                Deaths  \\\n",
       "0                                              6371474   \n",
       "1                                               213825   \n",
       "2                                                37301   \n",
       "3                                                15819   \n",
       "4                                                46696   \n",
       "..                                                 ...   \n",
       "214                                                  —   \n",
       "215                                                  —   \n",
       "216                                                  0   \n",
       "217                                                  —   \n",
       "218  .mw-parser-output .reflist{font-size:90%;margi...   \n",
       "\n",
       "                                                 Cases  \n",
       "0                                            563632472  \n",
       "1                                              3749635  \n",
       "2                                              1187138  \n",
       "3                                               381150  \n",
       "4                                              1940824  \n",
       "..                                                 ...  \n",
       "214                                               1831  \n",
       "215                                                  4  \n",
       "216                                                 38  \n",
       "217                                                 49  \n",
       "218  .mw-parser-output .reflist{font-size:90%;margi...  \n",
       "\n",
       "[219 rows x 4 columns]"
      ]
     },
     "execution_count": 66,
     "metadata": {},
     "output_type": "execute_result"
    }
   ],
   "source": [
    "df"
   ]
  },
  {
   "cell_type": "code",
   "execution_count": 69,
   "id": "2925bdf7",
   "metadata": {},
   "outputs": [
    {
     "name": "stdout",
     "output_type": "stream",
     "text": [
      "fifth line\n"
     ]
    }
   ],
   "source": [
    "with open('test.txt','r') as fp:\n",
    "    print(fp.readlines()[-1])"
   ]
  },
  {
   "cell_type": "code",
   "execution_count": 70,
   "id": "1753d6ce",
   "metadata": {},
   "outputs": [
    {
     "data": {
      "text/plain": [
       "[30, 50, 45, 60]"
      ]
     },
     "execution_count": 70,
     "metadata": {},
     "output_type": "execute_result"
    }
   ],
   "source": [
    "p"
   ]
  },
  {
   "cell_type": "code",
   "execution_count": 71,
   "id": "3a867791",
   "metadata": {},
   "outputs": [
    {
     "data": {
      "text/plain": [
       "60"
      ]
     },
     "execution_count": 71,
     "metadata": {},
     "output_type": "execute_result"
    }
   ],
   "source": [
    "p.pop()"
   ]
  },
  {
   "cell_type": "code",
   "execution_count": 72,
   "id": "b9f6346a",
   "metadata": {},
   "outputs": [
    {
     "data": {
      "text/plain": [
       "[30, 50, 45]"
      ]
     },
     "execution_count": 72,
     "metadata": {},
     "output_type": "execute_result"
    }
   ],
   "source": [
    "p"
   ]
  },
  {
   "cell_type": "code",
   "execution_count": 73,
   "id": "9a8dc6f3",
   "metadata": {},
   "outputs": [
    {
     "data": {
      "text/plain": [
       "45"
      ]
     },
     "execution_count": 73,
     "metadata": {},
     "output_type": "execute_result"
    }
   ],
   "source": [
    "p.pop(2)"
   ]
  },
  {
   "cell_type": "code",
   "execution_count": 74,
   "id": "5b83ccc5",
   "metadata": {},
   "outputs": [
    {
     "data": {
      "text/plain": [
       "[30, 50]"
      ]
     },
     "execution_count": 74,
     "metadata": {},
     "output_type": "execute_result"
    }
   ],
   "source": [
    "p"
   ]
  },
  {
   "cell_type": "code",
   "execution_count": null,
   "id": "6f14c816",
   "metadata": {},
   "outputs": [],
   "source": [
    "insert\n",
    "append\n",
    "extend\n",
    "remove\n",
    "pop\n",
    "clear\n"
   ]
  },
  {
   "cell_type": "code",
   "execution_count": 76,
   "id": "46d4742d",
   "metadata": {},
   "outputs": [],
   "source": [
    "p = [1,1,1,1,6,3,6,8,4,7,7,4,8,4,7,'adfdsf','Python','Python','Python']"
   ]
  },
  {
   "cell_type": "code",
   "execution_count": 81,
   "id": "5fdd6928",
   "metadata": {},
   "outputs": [
    {
     "data": {
      "text/plain": [
       "2"
      ]
     },
     "execution_count": 81,
     "metadata": {},
     "output_type": "execute_result"
    }
   ],
   "source": [
    "p.count(6)"
   ]
  },
  {
   "cell_type": "code",
   "execution_count": 82,
   "id": "19bc0f6a",
   "metadata": {},
   "outputs": [],
   "source": [
    "p = ['Python',100,200,'test','hadoop',500,'Python']"
   ]
  },
  {
   "cell_type": "code",
   "execution_count": 84,
   "id": "f907a0b3",
   "metadata": {},
   "outputs": [
    {
     "data": {
      "text/plain": [
       "0"
      ]
     },
     "execution_count": 84,
     "metadata": {},
     "output_type": "execute_result"
    }
   ],
   "source": [
    "p.index('Python') # first occ"
   ]
  },
  {
   "cell_type": "code",
   "execution_count": 86,
   "id": "bd1c8f0b",
   "metadata": {},
   "outputs": [
    {
     "data": {
      "text/plain": [
       "5"
      ]
     },
     "execution_count": 86,
     "metadata": {},
     "output_type": "execute_result"
    }
   ],
   "source": [
    "p.index(500)"
   ]
  },
  {
   "cell_type": "code",
   "execution_count": 87,
   "id": "196703d5",
   "metadata": {},
   "outputs": [
    {
     "data": {
      "text/plain": [
       "500"
      ]
     },
     "execution_count": 87,
     "metadata": {},
     "output_type": "execute_result"
    }
   ],
   "source": [
    "p[5]"
   ]
  },
  {
   "cell_type": "code",
   "execution_count": 88,
   "id": "568ee64e",
   "metadata": {},
   "outputs": [
    {
     "data": {
      "text/plain": [
       "5"
      ]
     },
     "execution_count": 88,
     "metadata": {},
     "output_type": "execute_result"
    }
   ],
   "source": [
    "p[1:].index('Python')"
   ]
  },
  {
   "cell_type": "code",
   "execution_count": 89,
   "id": "edfcbdc1",
   "metadata": {},
   "outputs": [
    {
     "data": {
      "text/plain": [
       "['Python', 100, 200, 'test', 'hadoop', 500, 'Python']"
      ]
     },
     "execution_count": 89,
     "metadata": {},
     "output_type": "execute_result"
    }
   ],
   "source": [
    "p"
   ]
  },
  {
   "cell_type": "code",
   "execution_count": 91,
   "id": "f7a7495e",
   "metadata": {},
   "outputs": [
    {
     "data": {
      "text/plain": [
       "6"
      ]
     },
     "execution_count": 91,
     "metadata": {},
     "output_type": "execute_result"
    }
   ],
   "source": [
    "p.index('Python',1)"
   ]
  },
  {
   "cell_type": "code",
   "execution_count": null,
   "id": "7aaaeaff",
   "metadata": {},
   "outputs": [],
   "source": []
  },
  {
   "cell_type": "code",
   "execution_count": 94,
   "id": "3426e0c0",
   "metadata": {},
   "outputs": [
    {
     "data": {
      "text/plain": [
       "[0, 6]"
      ]
     },
     "execution_count": 94,
     "metadata": {},
     "output_type": "execute_result"
    }
   ],
   "source": [
    "e"
   ]
  },
  {
   "cell_type": "code",
   "execution_count": 95,
   "id": "630c1b8a",
   "metadata": {},
   "outputs": [
    {
     "data": {
      "text/plain": [
       "[0, 6]"
      ]
     },
     "execution_count": 95,
     "metadata": {},
     "output_type": "execute_result"
    }
   ],
   "source": [
    "e"
   ]
  },
  {
   "cell_type": "code",
   "execution_count": 96,
   "id": "29af0560",
   "metadata": {},
   "outputs": [
    {
     "data": {
      "text/plain": [
       "['Python', 100, 200, 'test', 'hadoop', 500, 'Python']"
      ]
     },
     "execution_count": 96,
     "metadata": {},
     "output_type": "execute_result"
    }
   ],
   "source": [
    "p"
   ]
  },
  {
   "cell_type": "code",
   "execution_count": 103,
   "id": "2298ba2a",
   "metadata": {},
   "outputs": [
    {
     "data": {
      "text/plain": [
       "6"
      ]
     },
     "execution_count": 103,
     "metadata": {},
     "output_type": "execute_result"
    }
   ],
   "source": [
    "p.index('Python',2)"
   ]
  },
  {
   "cell_type": "code",
   "execution_count": 104,
   "id": "55d469df",
   "metadata": {},
   "outputs": [],
   "source": [
    "p = [1,1,1,100,1,2,2,2,2,4,5,6,7,]"
   ]
  },
  {
   "cell_type": "code",
   "execution_count": 105,
   "id": "c9991096",
   "metadata": {},
   "outputs": [
    {
     "data": {
      "text/plain": [
       "5"
      ]
     },
     "execution_count": 105,
     "metadata": {},
     "output_type": "execute_result"
    }
   ],
   "source": [
    "p.index(2,3,7) # index(element,start,stop)"
   ]
  },
  {
   "cell_type": "code",
   "execution_count": 106,
   "id": "00dfa90a",
   "metadata": {},
   "outputs": [
    {
     "data": {
      "text/plain": [
       "[1, 1, 1, 100, 1, 2, 2, 2, 2, 4, 5, 6, 7]"
      ]
     },
     "execution_count": 106,
     "metadata": {},
     "output_type": "execute_result"
    }
   ],
   "source": [
    "p"
   ]
  },
  {
   "cell_type": "code",
   "execution_count": null,
   "id": "22b326f5",
   "metadata": {},
   "outputs": [],
   "source": [
    "we are not stoage device\n",
    "\n",
    "we are processing device"
   ]
  },
  {
   "cell_type": "code",
   "execution_count": 7,
   "id": "557f6ebd",
   "metadata": {},
   "outputs": [],
   "source": [
    "py_list = [3434,'3434','python','database','ML']"
   ]
  },
  {
   "cell_type": "code",
   "execution_count": 31,
   "id": "ab7a0957",
   "metadata": {},
   "outputs": [],
   "source": [
    "#update element existing"
   ]
  },
  {
   "cell_type": "code",
   "execution_count": 9,
   "id": "e81f6350",
   "metadata": {},
   "outputs": [],
   "source": [
    "py_list[2] = 'Python123'"
   ]
  },
  {
   "cell_type": "code",
   "execution_count": 10,
   "id": "d69902a1",
   "metadata": {},
   "outputs": [
    {
     "data": {
      "text/plain": [
       "[3434, '3434', 'Python123', 'database', 'ML']"
      ]
     },
     "execution_count": 10,
     "metadata": {},
     "output_type": "execute_result"
    }
   ],
   "source": [
    "py_list"
   ]
  },
  {
   "cell_type": "code",
   "execution_count": 11,
   "id": "1a15f6de",
   "metadata": {},
   "outputs": [],
   "source": [
    "py_list[py_list.index('database')]='DB'"
   ]
  },
  {
   "cell_type": "code",
   "execution_count": 12,
   "id": "8446488c",
   "metadata": {},
   "outputs": [
    {
     "data": {
      "text/plain": [
       "[3434, '3434', 'Python123', 'DB', 'ML']"
      ]
     },
     "execution_count": 12,
     "metadata": {},
     "output_type": "execute_result"
    }
   ],
   "source": [
    "py_list"
   ]
  },
  {
   "cell_type": "code",
   "execution_count": 13,
   "id": "254e9a74",
   "metadata": {},
   "outputs": [
    {
     "data": {
      "text/plain": [
       "[3434, '3434', 'Python123', 'DB', 'ML']"
      ]
     },
     "execution_count": 13,
     "metadata": {},
     "output_type": "execute_result"
    }
   ],
   "source": [
    "py_list"
   ]
  },
  {
   "cell_type": "code",
   "execution_count": 14,
   "id": "01861b50",
   "metadata": {},
   "outputs": [],
   "source": [
    "py_list[-1] = 'Machine Learning'"
   ]
  },
  {
   "cell_type": "code",
   "execution_count": 15,
   "id": "054d6a52",
   "metadata": {},
   "outputs": [
    {
     "data": {
      "text/plain": [
       "[3434, '3434', 'Python123', 'DB', 'Machine Learning']"
      ]
     },
     "execution_count": 15,
     "metadata": {},
     "output_type": "execute_result"
    }
   ],
   "source": [
    "py_list"
   ]
  },
  {
   "cell_type": "code",
   "execution_count": 16,
   "id": "1074daa6",
   "metadata": {},
   "outputs": [],
   "source": [
    "py_list[2] ='PY'"
   ]
  },
  {
   "cell_type": "code",
   "execution_count": 17,
   "id": "f720b8fb",
   "metadata": {},
   "outputs": [
    {
     "data": {
      "text/plain": [
       "[3434, '3434', 'PY', 'DB', 'Machine Learning']"
      ]
     },
     "execution_count": 17,
     "metadata": {},
     "output_type": "execute_result"
    }
   ],
   "source": [
    "py_list"
   ]
  },
  {
   "cell_type": "code",
   "execution_count": 18,
   "id": "f420353f",
   "metadata": {},
   "outputs": [
    {
     "data": {
      "text/plain": [
       "[3434, '3434', 'PY', 'DB', 'Machine Learning']"
      ]
     },
     "execution_count": 18,
     "metadata": {},
     "output_type": "execute_result"
    }
   ],
   "source": [
    "py_list"
   ]
  },
  {
   "cell_type": "code",
   "execution_count": 19,
   "id": "eca19d22",
   "metadata": {},
   "outputs": [],
   "source": [
    "p = list(range(5000))"
   ]
  },
  {
   "cell_type": "code",
   "execution_count": 21,
   "id": "2ccbe38b",
   "metadata": {},
   "outputs": [
    {
     "data": {
      "text/plain": [
       "634"
      ]
     },
     "execution_count": 21,
     "metadata": {},
     "output_type": "execute_result"
    }
   ],
   "source": [
    "p.index(634)"
   ]
  },
  {
   "cell_type": "code",
   "execution_count": 22,
   "id": "29828722",
   "metadata": {},
   "outputs": [],
   "source": [
    "p = [1,1,1,1,6,3,6,8,4,7,7,4,8,4,7,'adfdsf','Python','Python','Python']"
   ]
  },
  {
   "cell_type": "code",
   "execution_count": 23,
   "id": "ab2c5f77",
   "metadata": {},
   "outputs": [
    {
     "data": {
      "text/plain": [
       "15"
      ]
     },
     "execution_count": 23,
     "metadata": {},
     "output_type": "execute_result"
    }
   ],
   "source": [
    "p.index('adfdsf')"
   ]
  },
  {
   "cell_type": "code",
   "execution_count": 24,
   "id": "bdf231ef",
   "metadata": {},
   "outputs": [
    {
     "data": {
      "text/plain": [
       "19"
      ]
     },
     "execution_count": 24,
     "metadata": {},
     "output_type": "execute_result"
    }
   ],
   "source": [
    "len(p)"
   ]
  },
  {
   "cell_type": "code",
   "execution_count": 25,
   "id": "46a6ee06",
   "metadata": {},
   "outputs": [
    {
     "data": {
      "text/plain": [
       "[3434, '3434', 'PY', 'DB', 'Machine Learning']"
      ]
     },
     "execution_count": 25,
     "metadata": {},
     "output_type": "execute_result"
    }
   ],
   "source": [
    "py_list"
   ]
  },
  {
   "cell_type": "code",
   "execution_count": 26,
   "id": "944b91fd",
   "metadata": {},
   "outputs": [
    {
     "data": {
      "text/plain": [
       "5"
      ]
     },
     "execution_count": 26,
     "metadata": {},
     "output_type": "execute_result"
    }
   ],
   "source": [
    "len(py_list)"
   ]
  },
  {
   "cell_type": "code",
   "execution_count": 27,
   "id": "27670404",
   "metadata": {},
   "outputs": [],
   "source": [
    "p = [45,76,34,89,34,78,34,89]"
   ]
  },
  {
   "cell_type": "code",
   "execution_count": 28,
   "id": "6fbe5308",
   "metadata": {},
   "outputs": [
    {
     "data": {
      "text/plain": [
       "[45, 76, 34, 89, 34, 78, 34, 89]"
      ]
     },
     "execution_count": 28,
     "metadata": {},
     "output_type": "execute_result"
    }
   ],
   "source": [
    "p"
   ]
  },
  {
   "cell_type": "code",
   "execution_count": 32,
   "id": "eeeee53a",
   "metadata": {},
   "outputs": [
    {
     "data": {
      "text/plain": [
       "[45, 76, 34, 89, 34, 78, 34, 89]"
      ]
     },
     "execution_count": 32,
     "metadata": {},
     "output_type": "execute_result"
    }
   ],
   "source": [
    "p"
   ]
  },
  {
   "cell_type": "code",
   "execution_count": 33,
   "id": "6bc0f3a2",
   "metadata": {},
   "outputs": [],
   "source": [
    "p.sort()"
   ]
  },
  {
   "cell_type": "code",
   "execution_count": 34,
   "id": "a2982e36",
   "metadata": {},
   "outputs": [
    {
     "data": {
      "text/plain": [
       "[34, 34, 34, 45, 76, 78, 89, 89]"
      ]
     },
     "execution_count": 34,
     "metadata": {},
     "output_type": "execute_result"
    }
   ],
   "source": [
    "p"
   ]
  },
  {
   "cell_type": "code",
   "execution_count": 47,
   "id": "7beb4d84",
   "metadata": {},
   "outputs": [],
   "source": [
    "p = [45,2,8,90,34,1,2,6,94]"
   ]
  },
  {
   "cell_type": "code",
   "execution_count": 36,
   "id": "2f32fe46",
   "metadata": {},
   "outputs": [],
   "source": [
    "p.sort()"
   ]
  },
  {
   "cell_type": "code",
   "execution_count": 37,
   "id": "16b41cf9",
   "metadata": {},
   "outputs": [
    {
     "data": {
      "text/plain": [
       "[1, 2, 2, 6, 8, 34, 45, 90, 94]"
      ]
     },
     "execution_count": 37,
     "metadata": {},
     "output_type": "execute_result"
    }
   ],
   "source": [
    "p"
   ]
  },
  {
   "cell_type": "code",
   "execution_count": 39,
   "id": "3a6aad42",
   "metadata": {},
   "outputs": [
    {
     "data": {
      "text/plain": [
       "[45, 2, 8, 90, 34, 1, 2, 6, 94]"
      ]
     },
     "execution_count": 39,
     "metadata": {},
     "output_type": "execute_result"
    }
   ],
   "source": [
    "p"
   ]
  },
  {
   "cell_type": "code",
   "execution_count": 41,
   "id": "f453f2c9",
   "metadata": {},
   "outputs": [],
   "source": [
    "p.sort(reverse=True)"
   ]
  },
  {
   "cell_type": "code",
   "execution_count": 42,
   "id": "d9b76cbf",
   "metadata": {},
   "outputs": [
    {
     "data": {
      "text/plain": [
       "[94, 90, 45, 34, 8, 6, 2, 2, 1]"
      ]
     },
     "execution_count": 42,
     "metadata": {},
     "output_type": "execute_result"
    }
   ],
   "source": [
    "p"
   ]
  },
  {
   "cell_type": "code",
   "execution_count": null,
   "id": "f0bc4e55",
   "metadata": {},
   "outputs": [],
   "source": []
  },
  {
   "cell_type": "code",
   "execution_count": 43,
   "id": "9ef0920b",
   "metadata": {},
   "outputs": [
    {
     "data": {
      "text/plain": [
       "[3434, '3434', 'PY', 'DB', 'Machine Learning']"
      ]
     },
     "execution_count": 43,
     "metadata": {},
     "output_type": "execute_result"
    }
   ],
   "source": [
    "py_list"
   ]
  },
  {
   "cell_type": "code",
   "execution_count": 44,
   "id": "4266adf0",
   "metadata": {},
   "outputs": [],
   "source": [
    "py_list.reverse()\n",
    "\n",
    "\n"
   ]
  },
  {
   "cell_type": "code",
   "execution_count": 45,
   "id": "3d9a9068",
   "metadata": {},
   "outputs": [
    {
     "data": {
      "text/plain": [
       "['Machine Learning', 'DB', 'PY', '3434', 3434]"
      ]
     },
     "execution_count": 45,
     "metadata": {},
     "output_type": "execute_result"
    }
   ],
   "source": [
    "py_list"
   ]
  },
  {
   "cell_type": "code",
   "execution_count": 48,
   "id": "36f2faed",
   "metadata": {},
   "outputs": [
    {
     "data": {
      "text/plain": [
       "[45, 2, 8, 90, 34, 1, 2, 6, 94]"
      ]
     },
     "execution_count": 48,
     "metadata": {},
     "output_type": "execute_result"
    }
   ],
   "source": [
    "p"
   ]
  },
  {
   "cell_type": "code",
   "execution_count": 49,
   "id": "af9c6373",
   "metadata": {},
   "outputs": [],
   "source": [
    "p.reverse()"
   ]
  },
  {
   "cell_type": "code",
   "execution_count": 50,
   "id": "be625e47",
   "metadata": {},
   "outputs": [
    {
     "data": {
      "text/plain": [
       "[94, 6, 2, 1, 34, 90, 8, 2, 45]"
      ]
     },
     "execution_count": 50,
     "metadata": {},
     "output_type": "execute_result"
    }
   ],
   "source": [
    "p"
   ]
  },
  {
   "cell_type": "code",
   "execution_count": 51,
   "id": "bdddffcd",
   "metadata": {},
   "outputs": [
    {
     "data": {
      "text/plain": [
       "['Machine Learning', 'DB', 'PY', '3434', 3434]"
      ]
     },
     "execution_count": 51,
     "metadata": {},
     "output_type": "execute_result"
    }
   ],
   "source": [
    "py_list"
   ]
  },
  {
   "cell_type": "code",
   "execution_count": 52,
   "id": "aaffeb95",
   "metadata": {},
   "outputs": [
    {
     "ename": "TypeError",
     "evalue": "'<' not supported between instances of 'int' and 'str'",
     "output_type": "error",
     "traceback": [
      "\u001b[1;31m---------------------------------------------------------------------------\u001b[0m",
      "\u001b[1;31mTypeError\u001b[0m                                 Traceback (most recent call last)",
      "\u001b[1;32m<ipython-input-52-120881a7bb17>\u001b[0m in \u001b[0;36m<module>\u001b[1;34m\u001b[0m\n\u001b[1;32m----> 1\u001b[1;33m \u001b[0mpy_list\u001b[0m\u001b[1;33m.\u001b[0m\u001b[0msort\u001b[0m\u001b[1;33m(\u001b[0m\u001b[1;33m)\u001b[0m\u001b[1;33m\u001b[0m\u001b[1;33m\u001b[0m\u001b[0m\n\u001b[0m",
      "\u001b[1;31mTypeError\u001b[0m: '<' not supported between instances of 'int' and 'str'"
     ]
    }
   ],
   "source": [
    "py_list.sort()"
   ]
  },
  {
   "cell_type": "code",
   "execution_count": 53,
   "id": "91f5f015",
   "metadata": {},
   "outputs": [],
   "source": [
    "p = ['python','Python','java','Hadoop']"
   ]
  },
  {
   "cell_type": "code",
   "execution_count": 54,
   "id": "2e11afea",
   "metadata": {},
   "outputs": [],
   "source": [
    "p.sort()"
   ]
  },
  {
   "cell_type": "code",
   "execution_count": 55,
   "id": "725a668d",
   "metadata": {},
   "outputs": [
    {
     "data": {
      "text/plain": [
       "['Hadoop', 'Python', 'java', 'python']"
      ]
     },
     "execution_count": 55,
     "metadata": {},
     "output_type": "execute_result"
    }
   ],
   "source": [
    "p"
   ]
  },
  {
   "cell_type": "code",
   "execution_count": 56,
   "id": "f2147177",
   "metadata": {},
   "outputs": [
    {
     "data": {
      "text/plain": [
       "72"
      ]
     },
     "execution_count": 56,
     "metadata": {},
     "output_type": "execute_result"
    }
   ],
   "source": [
    "ord('H')"
   ]
  },
  {
   "cell_type": "code",
   "execution_count": 57,
   "id": "b1401e23",
   "metadata": {},
   "outputs": [
    {
     "data": {
      "text/plain": [
       "80"
      ]
     },
     "execution_count": 57,
     "metadata": {},
     "output_type": "execute_result"
    }
   ],
   "source": [
    "ord('P')"
   ]
  },
  {
   "cell_type": "code",
   "execution_count": 58,
   "id": "3a3fb460",
   "metadata": {},
   "outputs": [
    {
     "data": {
      "text/plain": [
       "106"
      ]
     },
     "execution_count": 58,
     "metadata": {},
     "output_type": "execute_result"
    }
   ],
   "source": [
    "ord('j')"
   ]
  },
  {
   "cell_type": "code",
   "execution_count": 59,
   "id": "4a8507c2",
   "metadata": {},
   "outputs": [
    {
     "data": {
      "text/plain": [
       "112"
      ]
     },
     "execution_count": 59,
     "metadata": {},
     "output_type": "execute_result"
    }
   ],
   "source": [
    "ord('p')"
   ]
  },
  {
   "cell_type": "code",
   "execution_count": 60,
   "id": "1e853930",
   "metadata": {},
   "outputs": [
    {
     "data": {
      "text/plain": [
       "'H'"
      ]
     },
     "execution_count": 60,
     "metadata": {},
     "output_type": "execute_result"
    }
   ],
   "source": [
    "chr(72)"
   ]
  },
  {
   "cell_type": "code",
   "execution_count": 61,
   "id": "dadeac19",
   "metadata": {},
   "outputs": [
    {
     "data": {
      "text/plain": [
       "'a'"
      ]
     },
     "execution_count": 61,
     "metadata": {},
     "output_type": "execute_result"
    }
   ],
   "source": [
    "chr(97)"
   ]
  },
  {
   "cell_type": "code",
   "execution_count": 62,
   "id": "d9ccf798",
   "metadata": {},
   "outputs": [
    {
     "data": {
      "text/plain": [
       "'A'"
      ]
     },
     "execution_count": 62,
     "metadata": {},
     "output_type": "execute_result"
    }
   ],
   "source": [
    "chr(65)"
   ]
  },
  {
   "cell_type": "code",
   "execution_count": null,
   "id": "795e834a",
   "metadata": {},
   "outputs": [],
   "source": [
    "type\n",
    "len\n",
    "chr\n",
    "ord"
   ]
  },
  {
   "cell_type": "code",
   "execution_count": null,
   "id": "1ae181a8",
   "metadata": {},
   "outputs": [],
   "source": [
    "p = [65,78,34,78]"
   ]
  },
  {
   "cell_type": "code",
   "execution_count": 63,
   "id": "789c489a",
   "metadata": {},
   "outputs": [
    {
     "data": {
      "text/plain": [
       "72"
      ]
     },
     "execution_count": 63,
     "metadata": {},
     "output_type": "execute_result"
    }
   ],
   "source": [
    "ord('H')"
   ]
  },
  {
   "cell_type": "code",
   "execution_count": 64,
   "id": "beccf84e",
   "metadata": {},
   "outputs": [
    {
     "data": {
      "text/plain": [
       "69"
      ]
     },
     "execution_count": 64,
     "metadata": {},
     "output_type": "execute_result"
    }
   ],
   "source": [
    "ord('E')"
   ]
  },
  {
   "cell_type": "code",
   "execution_count": 66,
   "id": "387d9eb5",
   "metadata": {},
   "outputs": [
    {
     "data": {
      "text/plain": [
       "76"
      ]
     },
     "execution_count": 66,
     "metadata": {},
     "output_type": "execute_result"
    }
   ],
   "source": [
    "ord('L')"
   ]
  },
  {
   "cell_type": "code",
   "execution_count": 67,
   "id": "cdb2feae",
   "metadata": {},
   "outputs": [
    {
     "data": {
      "text/plain": [
       "79"
      ]
     },
     "execution_count": 67,
     "metadata": {},
     "output_type": "execute_result"
    }
   ],
   "source": [
    "ord('O')"
   ]
  },
  {
   "cell_type": "code",
   "execution_count": 70,
   "id": "259f0ade",
   "metadata": {},
   "outputs": [],
   "source": [
    "p = [72,69,76,76,79]"
   ]
  },
  {
   "cell_type": "code",
   "execution_count": 71,
   "id": "087242a8",
   "metadata": {},
   "outputs": [],
   "source": [
    "p1 = p.copy()"
   ]
  },
  {
   "cell_type": "code",
   "execution_count": 72,
   "id": "6b91a5bb",
   "metadata": {},
   "outputs": [
    {
     "data": {
      "text/plain": [
       "[72, 69, 76, 76, 79]"
      ]
     },
     "execution_count": 72,
     "metadata": {},
     "output_type": "execute_result"
    }
   ],
   "source": [
    "p1"
   ]
  },
  {
   "cell_type": "code",
   "execution_count": 73,
   "id": "b0033765",
   "metadata": {},
   "outputs": [],
   "source": [
    "p5 = p.copy()"
   ]
  },
  {
   "cell_type": "code",
   "execution_count": 74,
   "id": "ed3299d7",
   "metadata": {},
   "outputs": [
    {
     "data": {
      "text/plain": [
       "[72, 69, 76, 76, 79]"
      ]
     },
     "execution_count": 74,
     "metadata": {},
     "output_type": "execute_result"
    }
   ],
   "source": [
    "p5"
   ]
  },
  {
   "cell_type": "code",
   "execution_count": null,
   "id": "6a409b5d",
   "metadata": {},
   "outputs": [],
   "source": [
    "list:\n",
    "insert(index,element)\n",
    "append(element)\n",
    "extend([elements])\n",
    "count(element)\n",
    "index(element)\n",
    "sort() --> sort(reverse=True)\n",
    "reverse()\n",
    "copy()\n",
    "remove(element)\n",
    "pop(index)\n",
    "clear()"
   ]
  },
  {
   "cell_type": "code",
   "execution_count": null,
   "id": "1cf08fd3",
   "metadata": {},
   "outputs": [],
   "source": []
  }
 ],
 "metadata": {
  "kernelspec": {
   "display_name": "Python 3",
   "language": "python",
   "name": "python3"
  },
  "language_info": {
   "codemirror_mode": {
    "name": "ipython",
    "version": 3
   },
   "file_extension": ".py",
   "mimetype": "text/x-python",
   "name": "python",
   "nbconvert_exporter": "python",
   "pygments_lexer": "ipython3",
   "version": "3.8.8"
  }
 },
 "nbformat": 4,
 "nbformat_minor": 5
}
